{
 "cells": [
  {
   "cell_type": "code",
   "execution_count": 1,
   "metadata": {},
   "outputs": [],
   "source": [
    "import pandas as pd\n",
    "import numpy as np\n",
    "import matplotlib.pyplot as plt\n",
    "%matplotlib inline\n",
    "import seaborn as sns\n",
    "from sklearn.svm import SVC\n",
    "from sklearn.model_selection import train_test_split,cross_val_score\n",
    "from sklearn.metrics import accuracy_score,confusion_matrix,classification_report\n",
    "from sklearn.linear_model import LogisticRegression\n",
    "from sklearn.model_selection import StratifiedKFold, cross_validate, train_test_split, cross_val_score, KFold\n",
    "from sklearn.metrics import roc_curve, auc, classification_report, confusion_matrix, precision_score, recall_score,  accuracy_score, precision_recall_curve\n",
    "import warnings\n",
    "warnings.filterwarnings('always')"
   ]
  },
  {
   "cell_type": "code",
   "execution_count": 2,
   "metadata": {},
   "outputs": [],
   "source": [
    "df=pd.read_csv(r\"D.csv\")"
   ]
  },
  {
   "cell_type": "code",
   "execution_count": 3,
   "metadata": {},
   "outputs": [
    {
     "data": {
      "text/html": [
       "<div>\n",
       "<style scoped>\n",
       "    .dataframe tbody tr th:only-of-type {\n",
       "        vertical-align: middle;\n",
       "    }\n",
       "\n",
       "    .dataframe tbody tr th {\n",
       "        vertical-align: top;\n",
       "    }\n",
       "\n",
       "    .dataframe thead th {\n",
       "        text-align: right;\n",
       "    }\n",
       "</style>\n",
       "<table border=\"1\" class=\"dataframe\">\n",
       "  <thead>\n",
       "    <tr style=\"text-align: right;\">\n",
       "      <th></th>\n",
       "      <th>age</th>\n",
       "      <th>sex</th>\n",
       "      <th>cp</th>\n",
       "      <th>trestbps</th>\n",
       "      <th>chol</th>\n",
       "      <th>fbs</th>\n",
       "      <th>restecg</th>\n",
       "      <th>thalach</th>\n",
       "      <th>exang</th>\n",
       "      <th>oldpeak</th>\n",
       "      <th>slope</th>\n",
       "      <th>ca</th>\n",
       "      <th>thal</th>\n",
       "      <th>class</th>\n",
       "    </tr>\n",
       "  </thead>\n",
       "  <tbody>\n",
       "    <tr>\n",
       "      <th>0</th>\n",
       "      <td>63</td>\n",
       "      <td>1</td>\n",
       "      <td>1</td>\n",
       "      <td>145</td>\n",
       "      <td>233</td>\n",
       "      <td>1</td>\n",
       "      <td>2</td>\n",
       "      <td>150</td>\n",
       "      <td>0</td>\n",
       "      <td>2.3</td>\n",
       "      <td>3</td>\n",
       "      <td>0</td>\n",
       "      <td>6</td>\n",
       "      <td>0</td>\n",
       "    </tr>\n",
       "    <tr>\n",
       "      <th>1</th>\n",
       "      <td>67</td>\n",
       "      <td>1</td>\n",
       "      <td>4</td>\n",
       "      <td>160</td>\n",
       "      <td>286</td>\n",
       "      <td>0</td>\n",
       "      <td>2</td>\n",
       "      <td>108</td>\n",
       "      <td>1</td>\n",
       "      <td>1.5</td>\n",
       "      <td>2</td>\n",
       "      <td>3</td>\n",
       "      <td>3</td>\n",
       "      <td>2</td>\n",
       "    </tr>\n",
       "    <tr>\n",
       "      <th>2</th>\n",
       "      <td>67</td>\n",
       "      <td>1</td>\n",
       "      <td>4</td>\n",
       "      <td>120</td>\n",
       "      <td>229</td>\n",
       "      <td>0</td>\n",
       "      <td>2</td>\n",
       "      <td>129</td>\n",
       "      <td>1</td>\n",
       "      <td>2.6</td>\n",
       "      <td>2</td>\n",
       "      <td>2</td>\n",
       "      <td>7</td>\n",
       "      <td>1</td>\n",
       "    </tr>\n",
       "    <tr>\n",
       "      <th>3</th>\n",
       "      <td>37</td>\n",
       "      <td>1</td>\n",
       "      <td>3</td>\n",
       "      <td>130</td>\n",
       "      <td>250</td>\n",
       "      <td>0</td>\n",
       "      <td>0</td>\n",
       "      <td>187</td>\n",
       "      <td>0</td>\n",
       "      <td>3.5</td>\n",
       "      <td>3</td>\n",
       "      <td>0</td>\n",
       "      <td>3</td>\n",
       "      <td>0</td>\n",
       "    </tr>\n",
       "    <tr>\n",
       "      <th>4</th>\n",
       "      <td>41</td>\n",
       "      <td>0</td>\n",
       "      <td>2</td>\n",
       "      <td>130</td>\n",
       "      <td>204</td>\n",
       "      <td>0</td>\n",
       "      <td>2</td>\n",
       "      <td>172</td>\n",
       "      <td>0</td>\n",
       "      <td>1.4</td>\n",
       "      <td>1</td>\n",
       "      <td>0</td>\n",
       "      <td>3</td>\n",
       "      <td>0</td>\n",
       "    </tr>\n",
       "  </tbody>\n",
       "</table>\n",
       "</div>"
      ],
      "text/plain": [
       "   age  sex  cp  trestbps  chol  fbs  restecg  thalach  exang  oldpeak  slope  \\\n",
       "0   63    1   1       145   233    1        2      150      0      2.3      3   \n",
       "1   67    1   4       160   286    0        2      108      1      1.5      2   \n",
       "2   67    1   4       120   229    0        2      129      1      2.6      2   \n",
       "3   37    1   3       130   250    0        0      187      0      3.5      3   \n",
       "4   41    0   2       130   204    0        2      172      0      1.4      1   \n",
       "\n",
       "   ca  thal  class  \n",
       "0   0     6      0  \n",
       "1   3     3      2  \n",
       "2   2     7      1  \n",
       "3   0     3      0  \n",
       "4   0     3      0  "
      ]
     },
     "execution_count": 3,
     "metadata": {},
     "output_type": "execute_result"
    }
   ],
   "source": [
    "df.head()"
   ]
  },
  {
   "cell_type": "code",
   "execution_count": 4,
   "metadata": {},
   "outputs": [
    {
     "data": {
      "text/plain": [
       "(303, 14)"
      ]
     },
     "execution_count": 4,
     "metadata": {},
     "output_type": "execute_result"
    }
   ],
   "source": [
    "df.shape"
   ]
  },
  {
   "cell_type": "code",
   "execution_count": 5,
   "metadata": {},
   "outputs": [
    {
     "data": {
      "text/html": [
       "<div>\n",
       "<style scoped>\n",
       "    .dataframe tbody tr th:only-of-type {\n",
       "        vertical-align: middle;\n",
       "    }\n",
       "\n",
       "    .dataframe tbody tr th {\n",
       "        vertical-align: top;\n",
       "    }\n",
       "\n",
       "    .dataframe thead th {\n",
       "        text-align: right;\n",
       "    }\n",
       "</style>\n",
       "<table border=\"1\" class=\"dataframe\">\n",
       "  <thead>\n",
       "    <tr style=\"text-align: right;\">\n",
       "      <th></th>\n",
       "      <th>age</th>\n",
       "      <th>sex</th>\n",
       "      <th>cp</th>\n",
       "      <th>trestbps</th>\n",
       "      <th>chol</th>\n",
       "      <th>fbs</th>\n",
       "      <th>restecg</th>\n",
       "      <th>thalach</th>\n",
       "      <th>exang</th>\n",
       "      <th>oldpeak</th>\n",
       "      <th>slope</th>\n",
       "      <th>ca</th>\n",
       "      <th>thal</th>\n",
       "    </tr>\n",
       "  </thead>\n",
       "  <tbody>\n",
       "    <tr>\n",
       "      <th>0</th>\n",
       "      <td>63</td>\n",
       "      <td>1</td>\n",
       "      <td>1</td>\n",
       "      <td>145</td>\n",
       "      <td>233</td>\n",
       "      <td>1</td>\n",
       "      <td>2</td>\n",
       "      <td>150</td>\n",
       "      <td>0</td>\n",
       "      <td>2.3</td>\n",
       "      <td>3</td>\n",
       "      <td>0</td>\n",
       "      <td>6</td>\n",
       "    </tr>\n",
       "    <tr>\n",
       "      <th>1</th>\n",
       "      <td>67</td>\n",
       "      <td>1</td>\n",
       "      <td>4</td>\n",
       "      <td>160</td>\n",
       "      <td>286</td>\n",
       "      <td>0</td>\n",
       "      <td>2</td>\n",
       "      <td>108</td>\n",
       "      <td>1</td>\n",
       "      <td>1.5</td>\n",
       "      <td>2</td>\n",
       "      <td>3</td>\n",
       "      <td>3</td>\n",
       "    </tr>\n",
       "    <tr>\n",
       "      <th>2</th>\n",
       "      <td>67</td>\n",
       "      <td>1</td>\n",
       "      <td>4</td>\n",
       "      <td>120</td>\n",
       "      <td>229</td>\n",
       "      <td>0</td>\n",
       "      <td>2</td>\n",
       "      <td>129</td>\n",
       "      <td>1</td>\n",
       "      <td>2.6</td>\n",
       "      <td>2</td>\n",
       "      <td>2</td>\n",
       "      <td>7</td>\n",
       "    </tr>\n",
       "    <tr>\n",
       "      <th>3</th>\n",
       "      <td>37</td>\n",
       "      <td>1</td>\n",
       "      <td>3</td>\n",
       "      <td>130</td>\n",
       "      <td>250</td>\n",
       "      <td>0</td>\n",
       "      <td>0</td>\n",
       "      <td>187</td>\n",
       "      <td>0</td>\n",
       "      <td>3.5</td>\n",
       "      <td>3</td>\n",
       "      <td>0</td>\n",
       "      <td>3</td>\n",
       "    </tr>\n",
       "    <tr>\n",
       "      <th>4</th>\n",
       "      <td>41</td>\n",
       "      <td>0</td>\n",
       "      <td>2</td>\n",
       "      <td>130</td>\n",
       "      <td>204</td>\n",
       "      <td>0</td>\n",
       "      <td>2</td>\n",
       "      <td>172</td>\n",
       "      <td>0</td>\n",
       "      <td>1.4</td>\n",
       "      <td>1</td>\n",
       "      <td>0</td>\n",
       "      <td>3</td>\n",
       "    </tr>\n",
       "  </tbody>\n",
       "</table>\n",
       "</div>"
      ],
      "text/plain": [
       "   age  sex  cp  trestbps  chol  fbs  restecg  thalach  exang  oldpeak  slope  \\\n",
       "0   63    1   1       145   233    1        2      150      0      2.3      3   \n",
       "1   67    1   4       160   286    0        2      108      1      1.5      2   \n",
       "2   67    1   4       120   229    0        2      129      1      2.6      2   \n",
       "3   37    1   3       130   250    0        0      187      0      3.5      3   \n",
       "4   41    0   2       130   204    0        2      172      0      1.4      1   \n",
       "\n",
       "   ca  thal  \n",
       "0   0     6  \n",
       "1   3     3  \n",
       "2   2     7  \n",
       "3   0     3  \n",
       "4   0     3  "
      ]
     },
     "execution_count": 5,
     "metadata": {},
     "output_type": "execute_result"
    }
   ],
   "source": [
    "X= df.drop(columns='class')\n",
    "X.head()"
   ]
  },
  {
   "cell_type": "code",
   "execution_count": 6,
   "metadata": {},
   "outputs": [
    {
     "data": {
      "text/html": [
       "<div>\n",
       "<style scoped>\n",
       "    .dataframe tbody tr th:only-of-type {\n",
       "        vertical-align: middle;\n",
       "    }\n",
       "\n",
       "    .dataframe tbody tr th {\n",
       "        vertical-align: top;\n",
       "    }\n",
       "\n",
       "    .dataframe thead th {\n",
       "        text-align: right;\n",
       "    }\n",
       "</style>\n",
       "<table border=\"1\" class=\"dataframe\">\n",
       "  <thead>\n",
       "    <tr style=\"text-align: right;\">\n",
       "      <th></th>\n",
       "      <th>class</th>\n",
       "    </tr>\n",
       "  </thead>\n",
       "  <tbody>\n",
       "    <tr>\n",
       "      <th>0</th>\n",
       "      <td>0</td>\n",
       "    </tr>\n",
       "    <tr>\n",
       "      <th>1</th>\n",
       "      <td>2</td>\n",
       "    </tr>\n",
       "    <tr>\n",
       "      <th>2</th>\n",
       "      <td>1</td>\n",
       "    </tr>\n",
       "    <tr>\n",
       "      <th>3</th>\n",
       "      <td>0</td>\n",
       "    </tr>\n",
       "    <tr>\n",
       "      <th>4</th>\n",
       "      <td>0</td>\n",
       "    </tr>\n",
       "  </tbody>\n",
       "</table>\n",
       "</div>"
      ],
      "text/plain": [
       "   class\n",
       "0      0\n",
       "1      2\n",
       "2      1\n",
       "3      0\n",
       "4      0"
      ]
     },
     "execution_count": 6,
     "metadata": {},
     "output_type": "execute_result"
    }
   ],
   "source": [
    "Y=df['class']\n",
    "Y=pd.DataFrame(Y)\n",
    "Y.head()"
   ]
  },
  {
   "cell_type": "code",
   "execution_count": 7,
   "metadata": {},
   "outputs": [],
   "source": [
    "train_X,test_X,train_Y,test_Y=train_test_split(X,Y,test_size=0.3,random_state=2)"
   ]
  },
  {
   "cell_type": "code",
   "execution_count": 8,
   "metadata": {},
   "outputs": [
    {
     "name": "stdout",
     "output_type": "stream",
     "text": [
      "(212, 13)\n",
      "(91, 13)\n",
      "(212, 1)\n",
      "(91, 1)\n"
     ]
    }
   ],
   "source": [
    "print(train_X.shape)# Features for training  \n",
    "print(test_X.shape) # to find accuracy \n",
    "print(train_Y.shape) \n",
    "print(test_Y.shape)"
   ]
  },
  {
   "cell_type": "code",
   "execution_count": 9,
   "metadata": {},
   "outputs": [],
   "source": [
    "from sklearn.preprocessing import StandardScaler\n",
    "sc = StandardScaler()\n",
    "train_X = sc.fit_transform(train_X)\n",
    "test_X = sc.transform(test_X)"
   ]
  },
  {
   "cell_type": "code",
   "execution_count": 28,
   "metadata": {},
   "outputs": [
    {
     "name": "stderr",
     "output_type": "stream",
     "text": [
      "C:\\Users\\pavit\\anaconda3\\lib\\site-packages\\sklearn\\utils\\validation.py:760: DataConversionWarning: A column-vector y was passed when a 1d array was expected. Please change the shape of y to (n_samples, ), for example using ravel().\n",
      "  y = column_or_1d(y, warn=True)\n",
      "[Parallel(n_jobs=-1)]: Using backend LokyBackend with 8 concurrent workers.\n",
      "[Parallel(n_jobs=-1)]: Done   1 out of   1 | elapsed:    0.2s finished\n"
     ]
    },
    {
     "data": {
      "text/plain": [
       "0.5714285714285714"
      ]
     },
     "execution_count": 28,
     "metadata": {},
     "output_type": "execute_result"
    }
   ],
   "source": [
    "#1.Logistic Regression\n",
    "logreg=LogisticRegression(random_state=0,\n",
    "                         n_jobs=-1,\n",
    "                          class_weight=None,\n",
    "                          penalty = 'l2',\n",
    "                        verbose=2,                          \n",
    "                         max_iter=100)\n",
    "model_1=logreg.fit(train_X,train_Y)\n",
    "logreg_predict= model_1.predict(test_X)\n",
    "accuracy_score(logreg_predict,test_Y)"
   ]
  },
  {
   "cell_type": "code",
   "execution_count": 11,
   "metadata": {},
   "outputs": [
    {
     "name": "stdout",
     "output_type": "stream",
     "text": [
      "Accuracy: 0.5934065934065934\n"
     ]
    },
    {
     "name": "stderr",
     "output_type": "stream",
     "text": [
      "C:\\Users\\pavit\\anaconda3\\lib\\importlib\\_bootstrap.py:219: RuntimeWarning: numpy.ufunc size changed, may indicate binary incompatibility. Expected 192 from C header, got 216 from PyObject\n",
      "  return f(*args, **kwds)\n",
      "C:\\Users\\pavit\\anaconda3\\lib\\importlib\\_bootstrap.py:219: RuntimeWarning: numpy.ufunc size changed, may indicate binary incompatibility. Expected 192 from C header, got 216 from PyObject\n",
      "  return f(*args, **kwds)\n",
      "C:\\Users\\pavit\\anaconda3\\lib\\importlib\\_bootstrap.py:219: RuntimeWarning: numpy.ufunc size changed, may indicate binary incompatibility. Expected 192 from C header, got 216 from PyObject\n",
      "  return f(*args, **kwds)\n",
      "C:\\Users\\pavit\\anaconda3\\lib\\importlib\\_bootstrap.py:219: RuntimeWarning: numpy.ufunc size changed, may indicate binary incompatibility. Expected 192 from C header, got 216 from PyObject\n",
      "  return f(*args, **kwds)\n",
      "C:\\Users\\pavit\\anaconda3\\lib\\importlib\\_bootstrap.py:219: RuntimeWarning: numpy.ufunc size changed, may indicate binary incompatibility. Expected 192 from C header, got 216 from PyObject\n",
      "  return f(*args, **kwds)\n",
      "C:\\Users\\pavit\\anaconda3\\lib\\importlib\\_bootstrap.py:219: RuntimeWarning: numpy.ufunc size changed, may indicate binary incompatibility. Expected 192 from C header, got 216 from PyObject\n",
      "  return f(*args, **kwds)\n",
      "C:\\Users\\pavit\\anaconda3\\lib\\importlib\\_bootstrap.py:219: RuntimeWarning: numpy.ufunc size changed, may indicate binary incompatibility. Expected 192 from C header, got 216 from PyObject\n",
      "  return f(*args, **kwds)\n",
      "C:\\Users\\pavit\\anaconda3\\lib\\importlib\\_bootstrap.py:219: RuntimeWarning: numpy.ufunc size changed, may indicate binary incompatibility. Expected 192 from C header, got 216 from PyObject\n",
      "  return f(*args, **kwds)\n",
      "C:\\Users\\pavit\\anaconda3\\lib\\importlib\\_bootstrap.py:219: RuntimeWarning: numpy.ufunc size changed, may indicate binary incompatibility. Expected 192 from C header, got 216 from PyObject\n",
      "  return f(*args, **kwds)\n",
      "C:\\Users\\pavit\\anaconda3\\lib\\importlib\\_bootstrap.py:219: RuntimeWarning: numpy.ufunc size changed, may indicate binary incompatibility. Expected 192 from C header, got 216 from PyObject\n",
      "  return f(*args, **kwds)\n"
     ]
    }
   ],
   "source": [
    "#2.Decision tree\n",
    "from sklearn.tree import DecisionTreeClassifier\n",
    "DT_Model = DecisionTreeClassifier(criterion = \"gini\", \n",
    "            random_state = 100,max_depth=25, min_samples_leaf=5)\n",
    "DT_Model.fit(train_X, train_Y)\n",
    "DT_Predict = DT_Model.predict(test_X)\n",
    "DT_Accuracy = accuracy_score(test_Y, DT_Predict)\n",
    "print(\"Accuracy: \" + str(DT_Accuracy))"
   ]
  },
  {
   "cell_type": "code",
   "execution_count": 12,
   "metadata": {},
   "outputs": [
    {
     "name": "stderr",
     "output_type": "stream",
     "text": [
      "C:\\Users\\pavit\\anaconda3\\lib\\site-packages\\tensorflow\\python\\data\\ops\\iterator_ops.py:546: DeprecationWarning: Using or importing the ABCs from 'collections' instead of from 'collections.abc' is deprecated since Python 3.3,and in 3.9 it will stop working\n",
      "  class IteratorBase(collections.Iterator, trackable.Trackable,\n",
      "C:\\Users\\pavit\\anaconda3\\lib\\site-packages\\tensorflow\\python\\data\\ops\\dataset_ops.py:106: DeprecationWarning: Using or importing the ABCs from 'collections' instead of from 'collections.abc' is deprecated since Python 3.3,and in 3.9 it will stop working\n",
      "  class DatasetV2(collections.Iterable, tracking_base.Trackable,\n"
     ]
    }
   ],
   "source": [
    "#3. Neural Net\n",
    "import tensorflow as tf"
   ]
  },
  {
   "cell_type": "code",
   "execution_count": 13,
   "metadata": {},
   "outputs": [],
   "source": [
    "ann = tf.keras.models.Sequential()"
   ]
  },
  {
   "cell_type": "code",
   "execution_count": 14,
   "metadata": {},
   "outputs": [],
   "source": [
    "ann.add(tf.keras.layers.Dense(units=6, activation='relu'))"
   ]
  },
  {
   "cell_type": "code",
   "execution_count": 15,
   "metadata": {},
   "outputs": [],
   "source": [
    "ann.add(tf.keras.layers.Dense(units=6, activation='relu'))"
   ]
  },
  {
   "cell_type": "code",
   "execution_count": 16,
   "metadata": {},
   "outputs": [],
   "source": [
    "ann.add(tf.keras.layers.Dense(units=1, activation='sigmoid'))"
   ]
  },
  {
   "cell_type": "code",
   "execution_count": 17,
   "metadata": {},
   "outputs": [],
   "source": [
    "ann.compile(optimizer = 'adam', loss = 'categorical_crossentropy', metrics = ['accuracy'])"
   ]
  },
  {
   "cell_type": "code",
   "execution_count": 18,
   "metadata": {},
   "outputs": [
    {
     "name": "stdout",
     "output_type": "stream",
     "text": [
      "Epoch 1/100\n",
      "8/8 [==============================] - 0s 17ms/step - loss: 1.1134e-07 - accuracy: 0.3774 - val_loss: 1.1266e-07 - val_accuracy: 0.3736\n",
      "Epoch 2/100\n",
      "8/8 [==============================] - 0s 3ms/step - loss: 1.1134e-07 - accuracy: 0.3774 - val_loss: 1.1266e-07 - val_accuracy: 0.3736\n",
      "Epoch 3/100\n",
      "8/8 [==============================] - 0s 3ms/step - loss: 1.1134e-07 - accuracy: 0.3774 - val_loss: 1.1266e-07 - val_accuracy: 0.3736\n",
      "Epoch 4/100\n",
      "8/8 [==============================] - 0s 3ms/step - loss: 1.1134e-07 - accuracy: 0.3774 - val_loss: 1.1266e-07 - val_accuracy: 0.3736\n",
      "Epoch 5/100\n",
      "8/8 [==============================] - 0s 3ms/step - loss: 1.1134e-07 - accuracy: 0.3774 - val_loss: 1.1266e-07 - val_accuracy: 0.3736\n",
      "Epoch 6/100\n",
      "8/8 [==============================] - 0s 3ms/step - loss: 1.1134e-07 - accuracy: 0.3774 - val_loss: 1.1266e-07 - val_accuracy: 0.3736\n",
      "Epoch 7/100\n",
      "8/8 [==============================] - 0s 3ms/step - loss: 1.1134e-07 - accuracy: 0.3774 - val_loss: 1.1266e-07 - val_accuracy: 0.3736\n",
      "Epoch 8/100\n",
      "8/8 [==============================] - 0s 3ms/step - loss: 1.1134e-07 - accuracy: 0.3774 - val_loss: 1.1266e-07 - val_accuracy: 0.3736\n",
      "Epoch 9/100\n",
      "8/8 [==============================] - 0s 3ms/step - loss: 1.1134e-07 - accuracy: 0.3774 - val_loss: 1.1266e-07 - val_accuracy: 0.3736\n",
      "Epoch 10/100\n",
      "8/8 [==============================] - 0s 3ms/step - loss: 1.1134e-07 - accuracy: 0.3774 - val_loss: 1.1266e-07 - val_accuracy: 0.3736\n",
      "Epoch 11/100\n",
      "8/8 [==============================] - 0s 3ms/step - loss: 1.1134e-07 - accuracy: 0.3774 - val_loss: 1.1266e-07 - val_accuracy: 0.3736\n",
      "Epoch 12/100\n",
      "8/8 [==============================] - 0s 3ms/step - loss: 1.1134e-07 - accuracy: 0.3774 - val_loss: 1.1266e-07 - val_accuracy: 0.3736\n",
      "Epoch 13/100\n",
      "8/8 [==============================] - 0s 3ms/step - loss: 1.1134e-07 - accuracy: 0.3774 - val_loss: 1.1266e-07 - val_accuracy: 0.3736\n",
      "Epoch 14/100\n",
      "8/8 [==============================] - 0s 3ms/step - loss: 1.1134e-07 - accuracy: 0.3774 - val_loss: 1.1266e-07 - val_accuracy: 0.3736\n",
      "Epoch 15/100\n",
      "8/8 [==============================] - 0s 3ms/step - loss: 1.1134e-07 - accuracy: 0.3774 - val_loss: 1.1266e-07 - val_accuracy: 0.3736\n",
      "Epoch 16/100\n",
      "8/8 [==============================] - 0s 3ms/step - loss: 1.1134e-07 - accuracy: 0.3774 - val_loss: 1.1266e-07 - val_accuracy: 0.3736\n",
      "Epoch 17/100\n",
      "8/8 [==============================] - 0s 3ms/step - loss: 1.1134e-07 - accuracy: 0.3774 - val_loss: 1.1266e-07 - val_accuracy: 0.3736\n",
      "Epoch 18/100\n",
      "8/8 [==============================] - 0s 3ms/step - loss: 1.1134e-07 - accuracy: 0.3774 - val_loss: 1.1266e-07 - val_accuracy: 0.3736\n",
      "Epoch 19/100\n",
      "8/8 [==============================] - 0s 3ms/step - loss: 1.1134e-07 - accuracy: 0.3774 - val_loss: 1.1266e-07 - val_accuracy: 0.3736\n",
      "Epoch 20/100\n",
      "8/8 [==============================] - 0s 3ms/step - loss: 1.1134e-07 - accuracy: 0.3774 - val_loss: 1.1266e-07 - val_accuracy: 0.3736\n",
      "Epoch 21/100\n",
      "8/8 [==============================] - 0s 3ms/step - loss: 1.1134e-07 - accuracy: 0.3774 - val_loss: 1.1266e-07 - val_accuracy: 0.3736\n",
      "Epoch 22/100\n",
      "8/8 [==============================] - 0s 3ms/step - loss: 1.1134e-07 - accuracy: 0.3774 - val_loss: 1.1266e-07 - val_accuracy: 0.3736\n",
      "Epoch 23/100\n",
      "8/8 [==============================] - 0s 3ms/step - loss: 1.1134e-07 - accuracy: 0.3774 - val_loss: 1.1266e-07 - val_accuracy: 0.3736\n",
      "Epoch 24/100\n",
      "8/8 [==============================] - 0s 3ms/step - loss: 1.1134e-07 - accuracy: 0.3774 - val_loss: 1.1266e-07 - val_accuracy: 0.3736\n",
      "Epoch 25/100\n",
      "8/8 [==============================] - 0s 3ms/step - loss: 1.1134e-07 - accuracy: 0.3774 - val_loss: 1.1266e-07 - val_accuracy: 0.3736\n",
      "Epoch 26/100\n",
      "8/8 [==============================] - 0s 3ms/step - loss: 1.1134e-07 - accuracy: 0.3774 - val_loss: 1.1266e-07 - val_accuracy: 0.3736\n",
      "Epoch 27/100\n",
      "8/8 [==============================] - 0s 3ms/step - loss: 1.1134e-07 - accuracy: 0.3774 - val_loss: 1.1266e-07 - val_accuracy: 0.3736\n",
      "Epoch 28/100\n",
      "8/8 [==============================] - 0s 3ms/step - loss: 1.1134e-07 - accuracy: 0.3774 - val_loss: 1.1266e-07 - val_accuracy: 0.3736\n",
      "Epoch 29/100\n",
      "8/8 [==============================] - 0s 3ms/step - loss: 1.1134e-07 - accuracy: 0.3774 - val_loss: 1.1266e-07 - val_accuracy: 0.3736\n",
      "Epoch 30/100\n",
      "8/8 [==============================] - 0s 3ms/step - loss: 1.1134e-07 - accuracy: 0.3774 - val_loss: 1.1266e-07 - val_accuracy: 0.3736\n",
      "Epoch 31/100\n",
      "8/8 [==============================] - 0s 3ms/step - loss: 1.1134e-07 - accuracy: 0.3774 - val_loss: 1.1266e-07 - val_accuracy: 0.3736\n",
      "Epoch 32/100\n",
      "8/8 [==============================] - 0s 3ms/step - loss: 1.1134e-07 - accuracy: 0.3774 - val_loss: 1.1266e-07 - val_accuracy: 0.3736\n",
      "Epoch 33/100\n",
      "8/8 [==============================] - 0s 3ms/step - loss: 1.1134e-07 - accuracy: 0.3774 - val_loss: 1.1266e-07 - val_accuracy: 0.3736\n",
      "Epoch 34/100\n",
      "8/8 [==============================] - 0s 3ms/step - loss: 1.1134e-07 - accuracy: 0.3774 - val_loss: 1.1266e-07 - val_accuracy: 0.3736\n",
      "Epoch 35/100\n",
      "8/8 [==============================] - 0s 3ms/step - loss: 1.1134e-07 - accuracy: 0.3774 - val_loss: 1.1266e-07 - val_accuracy: 0.3736\n",
      "Epoch 36/100\n",
      "8/8 [==============================] - 0s 3ms/step - loss: 1.1134e-07 - accuracy: 0.3774 - val_loss: 1.1266e-07 - val_accuracy: 0.3736\n",
      "Epoch 37/100\n",
      "8/8 [==============================] - 0s 3ms/step - loss: 1.1134e-07 - accuracy: 0.3774 - val_loss: 1.1266e-07 - val_accuracy: 0.3736\n",
      "Epoch 38/100\n",
      "8/8 [==============================] - 0s 3ms/step - loss: 1.1134e-07 - accuracy: 0.3774 - val_loss: 1.1266e-07 - val_accuracy: 0.3736\n",
      "Epoch 39/100\n",
      "8/8 [==============================] - 0s 3ms/step - loss: 1.1134e-07 - accuracy: 0.3774 - val_loss: 1.1266e-07 - val_accuracy: 0.3736\n",
      "Epoch 40/100\n",
      "8/8 [==============================] - 0s 3ms/step - loss: 1.1134e-07 - accuracy: 0.3774 - val_loss: 1.1266e-07 - val_accuracy: 0.3736\n",
      "Epoch 41/100\n",
      "8/8 [==============================] - 0s 3ms/step - loss: 1.1134e-07 - accuracy: 0.3774 - val_loss: 1.1266e-07 - val_accuracy: 0.3736\n",
      "Epoch 42/100\n",
      "8/8 [==============================] - 0s 3ms/step - loss: 1.1134e-07 - accuracy: 0.3774 - val_loss: 1.1266e-07 - val_accuracy: 0.3736\n",
      "Epoch 43/100\n",
      "8/8 [==============================] - 0s 3ms/step - loss: 1.1134e-07 - accuracy: 0.3774 - val_loss: 1.1266e-07 - val_accuracy: 0.3736\n",
      "Epoch 44/100\n",
      "8/8 [==============================] - 0s 3ms/step - loss: 1.1134e-07 - accuracy: 0.3774 - val_loss: 1.1266e-07 - val_accuracy: 0.3736\n",
      "Epoch 45/100\n",
      "8/8 [==============================] - 0s 3ms/step - loss: 1.1134e-07 - accuracy: 0.3774 - val_loss: 1.1266e-07 - val_accuracy: 0.3736\n",
      "Epoch 46/100\n",
      "8/8 [==============================] - 0s 3ms/step - loss: 1.1134e-07 - accuracy: 0.3774 - val_loss: 1.1266e-07 - val_accuracy: 0.3736\n",
      "Epoch 47/100\n",
      "8/8 [==============================] - 0s 3ms/step - loss: 1.1134e-07 - accuracy: 0.3774 - val_loss: 1.1266e-07 - val_accuracy: 0.3736\n",
      "Epoch 48/100\n",
      "8/8 [==============================] - ETA: 0s - loss: 1.0331e-07 - accuracy: 0.30 - 0s 3ms/step - loss: 1.1134e-07 - accuracy: 0.3774 - val_loss: 1.1266e-07 - val_accuracy: 0.3736\n",
      "Epoch 49/100\n",
      "8/8 [==============================] - 0s 3ms/step - loss: 1.1134e-07 - accuracy: 0.3774 - val_loss: 1.1266e-07 - val_accuracy: 0.3736\n",
      "Epoch 50/100\n",
      "8/8 [==============================] - 0s 3ms/step - loss: 1.1134e-07 - accuracy: 0.3774 - val_loss: 1.1266e-07 - val_accuracy: 0.3736\n",
      "Epoch 51/100\n",
      "8/8 [==============================] - 0s 3ms/step - loss: 1.1134e-07 - accuracy: 0.3774 - val_loss: 1.1266e-07 - val_accuracy: 0.3736\n",
      "Epoch 52/100\n",
      "8/8 [==============================] - 0s 3ms/step - loss: 1.1134e-07 - accuracy: 0.3774 - val_loss: 1.1266e-07 - val_accuracy: 0.3736\n",
      "Epoch 53/100\n",
      "8/8 [==============================] - 0s 3ms/step - loss: 1.1134e-07 - accuracy: 0.3774 - val_loss: 1.1266e-07 - val_accuracy: 0.3736\n",
      "Epoch 54/100\n",
      "8/8 [==============================] - 0s 3ms/step - loss: 1.1134e-07 - accuracy: 0.3774 - val_loss: 1.1266e-07 - val_accuracy: 0.3736\n",
      "Epoch 55/100\n",
      "8/8 [==============================] - 0s 1ms/step - loss: 1.1134e-07 - accuracy: 0.3774 - val_loss: 1.1266e-07 - val_accuracy: 0.3736\n",
      "Epoch 56/100\n",
      "8/8 [==============================] - 0s 4ms/step - loss: 1.1134e-07 - accuracy: 0.3774 - val_loss: 1.1266e-07 - val_accuracy: 0.3736\n",
      "Epoch 57/100\n",
      "8/8 [==============================] - 0s 2ms/step - loss: 1.1134e-07 - accuracy: 0.3774 - val_loss: 1.1266e-07 - val_accuracy: 0.3736\n",
      "Epoch 58/100\n",
      "8/8 [==============================] - 0s 2ms/step - loss: 1.1134e-07 - accuracy: 0.3774 - val_loss: 1.1266e-07 - val_accuracy: 0.3736\n",
      "Epoch 59/100\n",
      "8/8 [==============================] - 0s 4ms/step - loss: 1.1134e-07 - accuracy: 0.3774 - val_loss: 1.1266e-07 - val_accuracy: 0.3736\n",
      "Epoch 60/100\n",
      "8/8 [==============================] - 0s 2ms/step - loss: 1.1134e-07 - accuracy: 0.3774 - val_loss: 1.1266e-07 - val_accuracy: 0.3736\n",
      "Epoch 61/100\n",
      "8/8 [==============================] - 0s 4ms/step - loss: 1.1134e-07 - accuracy: 0.3774 - val_loss: 1.1266e-07 - val_accuracy: 0.3736\n",
      "Epoch 62/100\n",
      "8/8 [==============================] - 0s 3ms/step - loss: 1.1134e-07 - accuracy: 0.3774 - val_loss: 1.1266e-07 - val_accuracy: 0.3736\n",
      "Epoch 63/100\n",
      "8/8 [==============================] - 0s 3ms/step - loss: 1.1134e-07 - accuracy: 0.3774 - val_loss: 1.1266e-07 - val_accuracy: 0.3736\n",
      "Epoch 64/100\n",
      "8/8 [==============================] - 0s 3ms/step - loss: 1.1134e-07 - accuracy: 0.3774 - val_loss: 1.1266e-07 - val_accuracy: 0.3736\n",
      "Epoch 65/100\n",
      "8/8 [==============================] - 0s 3ms/step - loss: 1.1134e-07 - accuracy: 0.3774 - val_loss: 1.1266e-07 - val_accuracy: 0.3736\n",
      "Epoch 66/100\n",
      "8/8 [==============================] - 0s 3ms/step - loss: 1.1134e-07 - accuracy: 0.3774 - val_loss: 1.1266e-07 - val_accuracy: 0.3736\n",
      "Epoch 67/100\n",
      "8/8 [==============================] - 0s 3ms/step - loss: 1.1134e-07 - accuracy: 0.3774 - val_loss: 1.1266e-07 - val_accuracy: 0.3736\n",
      "Epoch 68/100\n",
      "8/8 [==============================] - 0s 3ms/step - loss: 1.1134e-07 - accuracy: 0.3774 - val_loss: 1.1266e-07 - val_accuracy: 0.3736\n",
      "Epoch 69/100\n",
      "8/8 [==============================] - 0s 3ms/step - loss: 1.1134e-07 - accuracy: 0.3774 - val_loss: 1.1266e-07 - val_accuracy: 0.3736\n",
      "Epoch 70/100\n",
      "8/8 [==============================] - 0s 3ms/step - loss: 1.1134e-07 - accuracy: 0.3774 - val_loss: 1.1266e-07 - val_accuracy: 0.3736\n",
      "Epoch 71/100\n",
      "8/8 [==============================] - 0s 3ms/step - loss: 1.1134e-07 - accuracy: 0.3774 - val_loss: 1.1266e-07 - val_accuracy: 0.3736\n",
      "Epoch 72/100\n",
      "8/8 [==============================] - 0s 3ms/step - loss: 1.1134e-07 - accuracy: 0.3774 - val_loss: 1.1266e-07 - val_accuracy: 0.3736\n",
      "Epoch 73/100\n",
      "8/8 [==============================] - 0s 3ms/step - loss: 1.1134e-07 - accuracy: 0.3774 - val_loss: 1.1266e-07 - val_accuracy: 0.3736\n",
      "Epoch 74/100\n",
      "8/8 [==============================] - 0s 3ms/step - loss: 1.1134e-07 - accuracy: 0.3774 - val_loss: 1.1266e-07 - val_accuracy: 0.3736\n",
      "Epoch 75/100\n",
      "8/8 [==============================] - 0s 3ms/step - loss: 1.1134e-07 - accuracy: 0.3774 - val_loss: 1.1266e-07 - val_accuracy: 0.3736\n",
      "Epoch 76/100\n",
      "8/8 [==============================] - 0s 3ms/step - loss: 1.1134e-07 - accuracy: 0.3774 - val_loss: 1.1266e-07 - val_accuracy: 0.3736\n",
      "Epoch 77/100\n",
      "8/8 [==============================] - 0s 3ms/step - loss: 1.1134e-07 - accuracy: 0.3774 - val_loss: 1.1266e-07 - val_accuracy: 0.3736\n",
      "Epoch 78/100\n",
      "8/8 [==============================] - 0s 3ms/step - loss: 1.1134e-07 - accuracy: 0.3774 - val_loss: 1.1266e-07 - val_accuracy: 0.3736\n",
      "Epoch 79/100\n",
      "8/8 [==============================] - 0s 3ms/step - loss: 1.1134e-07 - accuracy: 0.3774 - val_loss: 1.1266e-07 - val_accuracy: 0.3736\n",
      "Epoch 80/100\n",
      "8/8 [==============================] - 0s 3ms/step - loss: 1.1134e-07 - accuracy: 0.3774 - val_loss: 1.1266e-07 - val_accuracy: 0.3736\n",
      "Epoch 81/100\n",
      "8/8 [==============================] - 0s 3ms/step - loss: 1.1134e-07 - accuracy: 0.3774 - val_loss: 1.1266e-07 - val_accuracy: 0.3736\n",
      "Epoch 82/100\n",
      "8/8 [==============================] - 0s 3ms/step - loss: 1.1134e-07 - accuracy: 0.3774 - val_loss: 1.1266e-07 - val_accuracy: 0.3736\n",
      "Epoch 83/100\n",
      "8/8 [==============================] - 0s 3ms/step - loss: 1.1134e-07 - accuracy: 0.3774 - val_loss: 1.1266e-07 - val_accuracy: 0.3736\n",
      "Epoch 84/100\n",
      "8/8 [==============================] - 0s 3ms/step - loss: 1.1134e-07 - accuracy: 0.3774 - val_loss: 1.1266e-07 - val_accuracy: 0.3736\n",
      "Epoch 85/100\n",
      "8/8 [==============================] - 0s 3ms/step - loss: 1.1134e-07 - accuracy: 0.3774 - val_loss: 1.1266e-07 - val_accuracy: 0.3736\n",
      "Epoch 86/100\n",
      "8/8 [==============================] - 0s 3ms/step - loss: 1.1134e-07 - accuracy: 0.3774 - val_loss: 1.1266e-07 - val_accuracy: 0.3736\n",
      "Epoch 87/100\n",
      "8/8 [==============================] - 0s 3ms/step - loss: 1.1134e-07 - accuracy: 0.3774 - val_loss: 1.1266e-07 - val_accuracy: 0.3736\n",
      "Epoch 88/100\n",
      "8/8 [==============================] - 0s 3ms/step - loss: 1.1134e-07 - accuracy: 0.3774 - val_loss: 1.1266e-07 - val_accuracy: 0.3736\n",
      "Epoch 89/100\n",
      "8/8 [==============================] - 0s 3ms/step - loss: 1.1134e-07 - accuracy: 0.3774 - val_loss: 1.1266e-07 - val_accuracy: 0.3736\n",
      "Epoch 90/100\n",
      "8/8 [==============================] - 0s 3ms/step - loss: 1.1134e-07 - accuracy: 0.3774 - val_loss: 1.1266e-07 - val_accuracy: 0.3736\n",
      "Epoch 91/100\n",
      "8/8 [==============================] - 0s 3ms/step - loss: 1.1134e-07 - accuracy: 0.3774 - val_loss: 1.1266e-07 - val_accuracy: 0.3736\n",
      "Epoch 92/100\n",
      "8/8 [==============================] - 0s 3ms/step - loss: 1.1134e-07 - accuracy: 0.3774 - val_loss: 1.1266e-07 - val_accuracy: 0.3736\n",
      "Epoch 93/100\n",
      "8/8 [==============================] - 0s 3ms/step - loss: 1.1134e-07 - accuracy: 0.3774 - val_loss: 1.1266e-07 - val_accuracy: 0.3736\n",
      "Epoch 94/100\n",
      "8/8 [==============================] - 0s 3ms/step - loss: 1.1134e-07 - accuracy: 0.3774 - val_loss: 1.1266e-07 - val_accuracy: 0.3736\n",
      "Epoch 95/100\n",
      "8/8 [==============================] - 0s 3ms/step - loss: 1.1134e-07 - accuracy: 0.3774 - val_loss: 1.1266e-07 - val_accuracy: 0.3736\n",
      "Epoch 96/100\n",
      "8/8 [==============================] - 0s 3ms/step - loss: 1.1134e-07 - accuracy: 0.3774 - val_loss: 1.1266e-07 - val_accuracy: 0.3736\n",
      "Epoch 97/100\n",
      "8/8 [==============================] - 0s 3ms/step - loss: 1.1134e-07 - accuracy: 0.3774 - val_loss: 1.1266e-07 - val_accuracy: 0.3736\n",
      "Epoch 98/100\n",
      "8/8 [==============================] - 0s 3ms/step - loss: 1.1134e-07 - accuracy: 0.3774 - val_loss: 1.1266e-07 - val_accuracy: 0.3736\n",
      "Epoch 99/100\n",
      "8/8 [==============================] - 0s 3ms/step - loss: 1.1134e-07 - accuracy: 0.3774 - val_loss: 1.1266e-07 - val_accuracy: 0.3736\n",
      "Epoch 100/100\n",
      "8/8 [==============================] - 0s 3ms/step - loss: 1.1134e-07 - accuracy: 0.3774 - val_loss: 1.1266e-07 - val_accuracy: 0.3736\n"
     ]
    }
   ],
   "source": [
    "history = ann.fit(train_X, train_Y, batch_size = 30, epochs = 100, verbose = 1, validation_data=(test_X, test_Y))"
   ]
  },
  {
   "cell_type": "code",
   "execution_count": 19,
   "metadata": {},
   "outputs": [
    {
     "data": {
      "image/png": "[encoded data removed]",
      "text/plain": [
       "<Figure size 432x288 with 1 Axes>"
      ]
     },
     "metadata": {
      "needs_background": "light"
     },
     "output_type": "display_data"
    }
   ],
   "source": [
    "plt.plot(history.history['accuracy'])\n",
    "plt.plot(history.history['val_accuracy'])\n",
    "plt.title('MODEL ACCURACY')\n",
    "plt.ylabel('Accuracy')\n",
    "plt.xlabel('No. of epochs')\n",
    "plt.legend(['train', 'val'], loc='upper left')\n",
    "plt.show()"
   ]
  },
  {
   "cell_type": "code",
   "execution_count": 34,
   "metadata": {},
   "outputs": [
    {
     "name": "stderr",
     "output_type": "stream",
     "text": [
      "C:\\Users\\pavit\\anaconda3\\lib\\site-packages\\sklearn\\utils\\validation.py:760: DataConversionWarning: A column-vector y was passed when a 1d array was expected. Please change the shape of y to (n_samples, ), for example using ravel().\n",
      "  y = column_or_1d(y, warn=True)\n"
     ]
    },
    {
     "data": {
      "text/plain": [
       "0.5604395604395604"
      ]
     },
     "execution_count": 34,
     "metadata": {},
     "output_type": "execute_result"
    }
   ],
   "source": [
    "#4.Adaboost\n",
    "from sklearn.ensemble import AdaBoostClassifier\n",
    "abc=AdaBoostClassifier(n_estimators=100, random_state=0)\n",
    "model_7=abc.fit(train_X,train_Y)\n",
    "abc_predict=model_7.predict(test_X)\n",
    "accuracy_score(abc_predict,test_Y)"
   ]
  },
  {
   "cell_type": "code",
   "execution_count": 20,
   "metadata": {},
   "outputs": [
    {
     "name": "stderr",
     "output_type": "stream",
     "text": [
      "C:\\Users\\pavit\\anaconda3\\lib\\importlib\\_bootstrap.py:219: RuntimeWarning: numpy.ufunc size changed, may indicate binary incompatibility. Expected 192 from C header, got 216 from PyObject\n",
      "  return f(*args, **kwds)\n",
      "C:\\Users\\pavit\\anaconda3\\lib\\site-packages\\ipykernel_launcher.py:4: DataConversionWarning: A column-vector y was passed when a 1d array was expected. Please change the shape of y to (n_samples,), for example using ravel().\n",
      "  after removing the cwd from sys.path.\n"
     ]
    },
    {
     "data": {
      "text/plain": [
       "0.5934065934065934"
      ]
     },
     "execution_count": 20,
     "metadata": {},
     "output_type": "execute_result"
    }
   ],
   "source": [
    "from sklearn.ensemble import RandomForestClassifier\n",
    "#5.RandomForest \n",
    "rfc=RandomForestClassifier(n_estimators = 15, criterion = 'entropy', random_state = 42)\n",
    "model_4=rfc.fit(train_X,train_Y)\n",
    "rfc_predict=model_4.predict(test_X)\n",
    "accuracy_score(rfc_predict,test_Y)"
   ]
  },
  {
   "cell_type": "code",
   "execution_count": 21,
   "metadata": {},
   "outputs": [
    {
     "name": "stdout",
     "output_type": "stream",
     "text": [
      "Test case accuracy is :0.5494505494505495\n",
      "\n",
      "\n"
     ]
    },
    {
     "name": "stderr",
     "output_type": "stream",
     "text": [
      "C:\\Users\\pavit\\anaconda3\\lib\\site-packages\\sklearn\\utils\\validation.py:760: DataConversionWarning: A column-vector y was passed when a 1d array was expected. Please change the shape of y to (n_samples, ), for example using ravel().\n",
      "  y = column_or_1d(y, warn=True)\n"
     ]
    }
   ],
   "source": [
    "#6.SVC\n",
    "from sklearn.svm import SVC \n",
    "svm_model_linear = SVC(kernel = 'poly', C = 1, probability = True).fit(train_X, train_Y) \n",
    "svm_predictions = svm_model_linear.predict(test_X) \n",
    "# creating a confusion matrix  and finding accuracy \n",
    "acc=accuracy_score(test_Y, svm_predictions)\n",
    "print('Test case accuracy is :'+ format(acc))\n",
    "print('\\n')"
   ]
  },
  {
   "cell_type": "code",
   "execution_count": 35,
   "metadata": {},
   "outputs": [
    {
     "name": "stderr",
     "output_type": "stream",
     "text": [
      "C:\\Users\\pavit\\anaconda3\\lib\\site-packages\\ipykernel_launcher.py:3: DataConversionWarning: A column-vector y was passed when a 1d array was expected. Please change the shape of y to (n_samples, ), for example using ravel().\n",
      "  This is separate from the ipykernel package so we can avoid doing imports until\n"
     ]
    },
    {
     "data": {
      "text/plain": [
       "0.6153846153846154"
      ]
     },
     "execution_count": 35,
     "metadata": {},
     "output_type": "execute_result"
    }
   ],
   "source": [
    "#7.KNN\n",
    "from sklearn.neighbors import KNeighborsClassifier \n",
    "knn=KNeighborsClassifier(n_neighbors=5)\n",
    "model_3= knn.fit(train_X,train_Y)\n",
    "knn_predict=model_3.predict(test_X)\n",
    "accuracy_score(knn_predict,test_Y)"
   ]
  },
  {
   "cell_type": "code",
   "execution_count": null,
   "metadata": {},
   "outputs": [],
   "source": []
  },
  {
   "cell_type": "code",
   "execution_count": 49,
   "metadata": {},
   "outputs": [
    {
     "data": {
      "text/plain": [
       "0.6131309285247132"
      ]
     },
     "execution_count": 49,
     "metadata": {},
     "output_type": "execute_result"
    }
   ],
   "source": [
    "#8. LINEAR REG\n",
    "from sklearn.linear_model import LinearRegression\n",
    "lin_reg=LinearRegression(n_jobs=-1,            \n",
    "                         )\n",
    "lin_reg.fit(train_X, train_Y)\n",
    "lin_reg.score(test_X, test_Y)"
   ]
  },
  {
   "cell_type": "code",
   "execution_count": 50,
   "metadata": {},
   "outputs": [
    {
     "name": "stdout",
     "output_type": "stream",
     "text": [
      "Age1\n",
      "Sex11\n",
      "Cp11\n",
      "Trest1\n",
      "Chol1\n",
      "FBS1\n",
      "T1\n",
      "R1\n",
      "t1\n",
      "E1\n",
      "01\n",
      "S1\n",
      "C1\n",
      "Heart risk 2\n"
     ]
    }
   ],
   "source": [
    "# PREDICTION ON GIVEN INPUT USING RANDOM FOREST AS IT HAS THE HIGHEST ACCURACY\n",
    "index=input(\"Age\")\n",
    "ip=input(\"Sex\")\n",
    "long=input(\"Cp\")\n",
    "short=input(\"Trest\")\n",
    "symbol=input(\"Chol\")\n",
    "redirect=input(\"FBS\")\n",
    "fix=input(\"T\")\n",
    "sub=input(\"R\")\n",
    "http=input(\"t\")\n",
    "rl=input(\"E\")\n",
    "fav=input(\"0\")\n",
    "port=input(\"S\")\n",
    "hturl=input(\"C\")\n",
    "inp=[[int(index),int(ip),int(long),int(short),int(symbol),int(redirect),int(fix),int(sub),int(http),int(rl),int(fav),int(port),int(hturl)]]\n",
    "a=knn.predict(inp)\n",
    "print(\"Heart risk\",a[0])"
   ]
  },
  {
   "cell_type": "markdown",
   "metadata": {},
   "source": []
  }
 ],
 "metadata": {
  "kernelspec": {
   "display_name": "Python 3",
   "language": "python",
   "name": "python3"
  },
  "language_info": {
   "codemirror_mode": {
    "name": "ipython",
    "version": 3
   },
   "file_extension": ".py",
   "mimetype": "text/x-python",
   "name": "python",
   "nbconvert_exporter": "python",
   "pygments_lexer": "ipython3",
   "version": "3.7.6"
  }
 },
 "nbformat": 4,
 "nbformat_minor": 4
}
